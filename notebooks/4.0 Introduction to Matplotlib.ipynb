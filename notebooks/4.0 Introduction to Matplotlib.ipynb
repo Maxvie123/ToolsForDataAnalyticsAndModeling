{
 "cells": [
  {
   "cell_type": "markdown",
   "metadata": {},
   "source": [
    "# 4.0 Introduction to Matplotlib\n",
    "\n",
    "Much is borrowed from Chapter 4 of VanderPlas -- basically extracted lots of his examples.  The details/text/explainations are in the book's notebooks (and its web page)."
   ]
  },
  {
   "cell_type": "code",
   "execution_count": null,
   "metadata": {},
   "outputs": [],
   "source": [
    "%matplotlib inline\n",
    "import matplotlib.pyplot as plt\n",
    "import numpy as np\n",
    "import pandas as pd\n",
    "import seaborn as sns"
   ]
  },
  {
   "cell_type": "markdown",
   "metadata": {},
   "source": [
    "## Plotting Directly from Pandas DataFrames"
   ]
  },
  {
   "cell_type": "code",
   "execution_count": null,
   "metadata": {},
   "outputs": [],
   "source": [
    "# https://pandas.pydata.org/pandas-docs/stable/reference/api/pandas.DataFrame.plot.html\n",
    "df = pd.read_csv(\"../data/10_us_economic_data.csv\")\n",
    "df.head()"
   ]
  },
  {
   "cell_type": "code",
   "execution_count": null,
   "metadata": {},
   "outputs": [],
   "source": [
    "# Just plain plot function\n",
    "df.plot()"
   ]
  },
  {
   "cell_type": "code",
   "execution_count": null,
   "metadata": {},
   "outputs": [],
   "source": [
    "df.plot(y='JobsAdded');"
   ]
  },
  {
   "cell_type": "code",
   "execution_count": null,
   "metadata": {},
   "outputs": [],
   "source": [
    "df.plot(x ='UnemploymentRate', y='JobsAdded', kind='scatter');"
   ]
  },
  {
   "cell_type": "code",
   "execution_count": null,
   "metadata": {},
   "outputs": [],
   "source": [
    "df.dropna().plot(y='GDP')"
   ]
  },
  {
   "cell_type": "code",
   "execution_count": null,
   "metadata": {},
   "outputs": [],
   "source": [
    "df = pd.read_csv(\"../data/01_U.S._Top_25_Largest_Cities.csv\")\n",
    "df.plot(y='Estimate');"
   ]
  },
  {
   "cell_type": "code",
   "execution_count": null,
   "metadata": {},
   "outputs": [],
   "source": [
    "df.plot(x='Place',y='Estimate');"
   ]
  },
  {
   "cell_type": "code",
   "execution_count": null,
   "metadata": {},
   "outputs": [],
   "source": [
    "df.plot(x='Place',y='Estimate', kind='barh');"
   ]
  },
  {
   "cell_type": "code",
   "execution_count": null,
   "metadata": {},
   "outputs": [],
   "source": [
    "df = pd.read_csv(\"../data/13_erv.csv\")\n",
    "df.plot(x ='R1', y='R2', kind='scatter');"
   ]
  },
  {
   "cell_type": "code",
   "execution_count": null,
   "metadata": {},
   "outputs": [],
   "source": [
    "df.plot();"
   ]
  },
  {
   "cell_type": "code",
   "execution_count": null,
   "metadata": {},
   "outputs": [],
   "source": [
    "df.plot(y='R1')"
   ]
  },
  {
   "cell_type": "code",
   "execution_count": null,
   "metadata": {},
   "outputs": [],
   "source": [
    "df.plot(y=['R1', 'R2', 'R3'])"
   ]
  },
  {
   "cell_type": "markdown",
   "metadata": {},
   "source": [
    "## Native Matplotlib"
   ]
  },
  {
   "cell_type": "code",
   "execution_count": null,
   "metadata": {},
   "outputs": [],
   "source": [
    "x = np.linspace(0, 10, 100)\n",
    "# What is x?   https://numpy.org/doc/stable/reference/generated/numpy.linspace.html\n",
    "# \"Returns evenly spaced numbers over a specified interval\""
   ]
  },
  {
   "cell_type": "code",
   "execution_count": null,
   "metadata": {},
   "outputs": [],
   "source": [
    "# Matlab-style interface (stateful) - Simple version\n",
    "plt.figure()\n",
    "plt.plot(x, np.sin(x));\n",
    "# Note that if we don't have the initial figure() call, plt.plot() will create\n",
    "# the figure and axes for us.  I usually add it explicitly (not sure why, though)\n",
    "# Also note the trailing semi-colon ... ?  \n",
    "# See https://stackoverflow.com/questions/51627233/why-is-there-a-semicolon-after-matplotlibs-plot-function"
   ]
  },
  {
   "cell_type": "code",
   "execution_count": null,
   "metadata": {
    "scrolled": true
   },
   "outputs": [],
   "source": [
    "# change the look jut a little\n",
    "plt.figure()\n",
    "plt.plot(x, np.sin(x), 'r-');\n",
    "plt.title(\"Sine Function\");\n",
    "plt.axis([-2, 12, -1.5, 1.5]);\n",
    "# Note here that we added components to the plot after the plot() constructor."
   ]
  },
  {
   "cell_type": "markdown",
   "metadata": {},
   "source": [
    "## Subplots"
   ]
  },
  {
   "cell_type": "code",
   "execution_count": null,
   "metadata": {},
   "outputs": [],
   "source": [
    "# Matlab-style interface (stateful)\n",
    "plt.figure()  # create a plot figure\n",
    "\n",
    "# create the first of two panels and set current axis\n",
    "plt.subplot(2, 1, 1) # (rows, columns, panel number)\n",
    "plt.plot(x, np.sin(x))\n",
    "plt.title(\"Sine Function\")\n",
    "\n",
    "# create the second panel and set current axis\n",
    "plt.subplot(2, 1, 2)\n",
    "plt.plot(x, np.cos(x))\n",
    "plt.title(\"Cosine Function\")\n",
    "plt.tight_layout(pad=0.4, w_pad=0.5, h_pad=1.0)"
   ]
  },
  {
   "cell_type": "code",
   "execution_count": null,
   "metadata": {},
   "outputs": [],
   "source": [
    "# Object-oriented interface\n",
    "# First create a grid of plots\n",
    "# ax will be an array of two Axes objects\n",
    "fig, ax = plt.subplots(2)\n",
    "# Initial function arguements: .subplots(nrows=1,ncols=1)\n",
    "# Result? 2 rows, 1 column.\n",
    "\n",
    "# Call plot() method on the appropriate object\n",
    "ax[0].plot(x, np.sin(x))\n",
    "ax[1].plot(x, np.cos(x))\n",
    "ax[0].set_title('Sine function')\n",
    "ax[1].set_title('Cosine function')\n",
    "plt.tight_layout(pad=0.4, w_pad=0.5, h_pad=1.0)\n",
    "# Save the figure to a file\n",
    "fig.savefig('first_figure.png')"
   ]
  },
  {
   "cell_type": "code",
   "execution_count": null,
   "metadata": {},
   "outputs": [],
   "source": [
    "# Same plot, but side-by-side\n",
    "fig, ax = plt.subplots(1, 2)\n",
    "# 1 row, 2 columns\n",
    "plt.tight_layout(pad=0.4, w_pad=5.0, h_pad=1.0)\n",
    "\n",
    "# Call plot() method on the appropriate object\n",
    "ax[0].plot(x, np.sin(x))\n",
    "ax[1].plot(x, np.cos(x))\n",
    "ax[0].set_title('Sine function')\n",
    "ax[1].set_title('Cosine function')"
   ]
  },
  {
   "cell_type": "markdown",
   "metadata": {},
   "source": [
    "## Example of sequential construction"
   ]
  },
  {
   "cell_type": "code",
   "execution_count": null,
   "metadata": {},
   "outputs": [],
   "source": [
    "# Create a blank figure and retrieve the axis\n",
    "fig = plt.figure()\n",
    "ax = plt.axes()"
   ]
  },
  {
   "cell_type": "code",
   "execution_count": null,
   "metadata": {},
   "outputs": [],
   "source": [
    "# Add a simple line plot\n",
    "plt.plot(x, np.sin(x))"
   ]
  },
  {
   "cell_type": "code",
   "execution_count": null,
   "metadata": {},
   "outputs": [],
   "source": [
    "# Change the plot limits\n",
    "plt.plot(x, np.sin(x))\n",
    "plt.xlim(-1, 20)\n",
    "plt.ylim(-2, 2);"
   ]
  },
  {
   "cell_type": "code",
   "execution_count": null,
   "metadata": {},
   "outputs": [],
   "source": [
    "# Add a title and some text\n",
    "plt.plot(x, np.sin(x))\n",
    "plt.xlim(-1, 20)\n",
    "plt.ylim(-2, 2);\n",
    "plt.title(\"Larger Axis Limits\")\n",
    "plt.text(10, 1.5, \"Add your favorite text.\");"
   ]
  },
  {
   "cell_type": "code",
   "execution_count": null,
   "metadata": {},
   "outputs": [],
   "source": [
    "# With the OO interface\n",
    "fig, ax = plt.subplots(1, 3)"
   ]
  },
  {
   "cell_type": "code",
   "execution_count": null,
   "metadata": {},
   "outputs": [],
   "source": [
    "# With the OO interface - Note that we can add/edit individual axes at any time --\n",
    "# i.e., there is no notion of a \"current axes\" (i.e., not stateful)\n",
    "fig, ax = plt.subplots(1, 3)\n",
    "plt.tight_layout(pad=0.4, w_pad=2.0, h_pad=1.0)\n",
    "ax[0].plot(x, np.sin(x))\n",
    "ax[1].plot(x, np.cos(x))\n",
    "ax[2].plot(x, x)\n",
    "ax[2].set_title(\"Line\")\n",
    "ax[0].text(1,-1,\"Hello\");\n",
    "ax[1].set_fc('red')\n",
    "# See https://matplotlib.org/3.1.1/api/axes_api.html for other commands"
   ]
  },
  {
   "cell_type": "markdown",
   "metadata": {},
   "source": [
    "## Styles"
   ]
  },
  {
   "cell_type": "code",
   "execution_count": null,
   "metadata": {},
   "outputs": [],
   "source": [
    "# Available style sheets (styles)\n",
    "print(plt.style.available)"
   ]
  },
  {
   "cell_type": "code",
   "execution_count": null,
   "metadata": {},
   "outputs": [],
   "source": [
    "plt.style.use('seaborn-whitegrid')\n",
    "# Note that styles are persistent -- if you go \"back\" and generate\n",
    "# some of the previous plots, the style will be used.\n",
    "fig = plt.figure()\n",
    "ax = plt.axes()\n",
    "ax.plot(x, np.sin(x));"
   ]
  },
  {
   "cell_type": "code",
   "execution_count": null,
   "metadata": {},
   "outputs": [],
   "source": [
    "# color specification\n",
    "plt.figure()\n",
    "plt.plot(x, np.sin(x - 0), color='blue')        # specify color by name\n",
    "plt.plot(x, np.sin(x - 1), color='g')           # short color code (rgbcmyk)\n",
    "plt.plot(x, np.sin(x - 2), color='0.75')        # Grayscale between 0 and 1\n",
    "plt.plot(x, np.sin(x - 3), color='#FFDD44')     # Hex code (RRGGBB from 00 to FF)\n",
    "plt.plot(x, np.sin(x - 4), color=(1.0,0.2,0.3)) # RGB tuple, values 0 to 1\n",
    "plt.plot(x, np.sin(x - 5), color='chartreuse'); # all HTML color names supported"
   ]
  },
  {
   "cell_type": "code",
   "execution_count": null,
   "metadata": {},
   "outputs": [],
   "source": [
    "# Line styles\n",
    "plt.figure()\n",
    "plt.plot(x, x + 0, linestyle='solid')\n",
    "plt.plot(x, x + 1, linestyle='dashed')\n",
    "plt.plot(x, x + 2, linestyle='dashdot')\n",
    "plt.plot(x, x + 3, linestyle='dotted');\n",
    "\n",
    "# For short, you can use the following codes:\n",
    "plt.plot(x, x + 4, linestyle='-')  # solid\n",
    "plt.plot(x, x + 5, linestyle='--') # dashed\n",
    "plt.plot(x, x + 6, linestyle='-.') # dashdot\n",
    "plt.plot(x, x + 7, linestyle=':');  # dotted"
   ]
  },
  {
   "cell_type": "code",
   "execution_count": null,
   "metadata": {},
   "outputs": [],
   "source": [
    "# Note the difference when you comment out the \"axis equal\" statement\n",
    "plt.plot(x, np.sin(x), '-g', label='sin(x)')\n",
    "plt.plot(x, np.cos(x), ':b', label='cos(x)')\n",
    "#plt.axis('equal')\n",
    "plt.legend();"
   ]
  },
  {
   "cell_type": "code",
   "execution_count": null,
   "metadata": {},
   "outputs": [],
   "source": [
    "# What's going on with the plt.axis('equal') statement?\n",
    "plt.axis?"
   ]
  },
  {
   "cell_type": "markdown",
   "metadata": {},
   "source": [
    "## Other Examples of Line and Scatter Plots"
   ]
  },
  {
   "cell_type": "code",
   "execution_count": null,
   "metadata": {},
   "outputs": [],
   "source": [
    "# set several things at once with the set() function and the o-o interface\n",
    "ax = plt.axes()\n",
    "ax.plot(x, np.sin(x))\n",
    "ax.set(xlim=(0, 10), ylim=(-2, 2),\n",
    "       xlabel='x', ylabel='sin(x)',\n",
    "       title='A Simple Plot');\n",
    "ax.text(2, -1.5, \"Can still add components.\")"
   ]
  },
  {
   "cell_type": "code",
   "execution_count": null,
   "metadata": {},
   "outputs": [],
   "source": [
    "# add a third argument to make a scatter plot\n",
    "x = np.linspace(0, 10, 30)\n",
    "y = np.sin(x)\n",
    "\n",
    "plt.plot(x, y, 'o', color='black');"
   ]
  },
  {
   "cell_type": "code",
   "execution_count": null,
   "metadata": {},
   "outputs": [],
   "source": [
    "# Add elements one-by-one to the list to see how this works\n",
    "# Also, explore in IPython for further details\n",
    "rng = np.random.RandomState(0)\n",
    "for marker in ['o', '.', ',', 'x', '+', 'v', '^', '<', '>', 's', 'd']:\n",
    "#for marker in ['o']:\n",
    "    plt.plot(rng.rand(5), rng.rand(5), marker,\n",
    "             label=\"marker='{0}'\".format(marker))\n",
    "plt.legend(numpoints=1)\n",
    "plt.xlim(0, 1.8);\n",
    "# Make sure that you can decipher the code.  Try swaping the \"for\" statments\n",
    "# (i.e, switch the comment marker)"
   ]
  },
  {
   "cell_type": "code",
   "execution_count": null,
   "metadata": {},
   "outputs": [],
   "source": [
    "# what is this \"RandomState\" thing?\n",
    "np.random.RandomState?"
   ]
  },
  {
   "cell_type": "code",
   "execution_count": null,
   "metadata": {},
   "outputs": [],
   "source": [
    "# scatter is a more powerful/flexible function to create scatter plots\n",
    "# Note that scatter is less efficient as it must individually compute\n",
    "# rendering data for each point.\n",
    "rng = np.random.RandomState(0)\n",
    "x = rng.randn(100)\n",
    "y = rng.randn(100)\n",
    "colors = rng.rand(100)\n",
    "sizes = 1000 * rng.rand(100)\n",
    "\n",
    "plt.scatter(x, y, c=colors, s=sizes, alpha=0.3,\n",
    "            cmap='viridis')\n",
    "plt.colorbar();  # show color scale\n",
    "# Hmmmm ... cmaps ... https://matplotlib.org/3.1.0/tutorials/colors/colormaps.html\n",
    "# Make sure that you understand what's going on here - i.e., what is x?  y?  colors? sizes?"
   ]
  },
  {
   "cell_type": "markdown",
   "metadata": {},
   "source": [
    "## Iris Plants Database\n",
    "This is a copy of UCI ML iris datasets (http://archive.ics.uci.edu/ml/datasets/Iris)\n",
    "\n",
    "The famous Iris database, first used by Sir R.A Fisher  This is perhaps the best known database to be found in the pattern recognition literature.  Fisher\\'s paper is a classic in the field and is referenced frequently to this day.  (See Duda & Hart, for example.)  The data set contains 3 classes of 50 instances each, where each class refers to a type of iris plant.  One class is linearly separable from the other 2; the latter are NOT linearly separable from each other.  \n",
    "\n",
    "References ----------    - Fisher,R.A. \"The use of multiple measurements in taxonomic problems\"      Annual Eugenics, 7, Part II, 179-188 (1936); also in \"Contributions to      Mathematical Statistics\" (John Wiley, NY, 1950).    - Duda,R.O., & Hart,P.E. (1973) Pattern Classification and Scene Analysis.      (Q327.D83) John Wiley & Sons.  ISBN 0-471-22361-1.  See page 218.    - Dasarathy, B.V. (1980) \"Nosing Around the Neighborhood: A New System      Structure and Classification Rule for Recognition in Partially Exposed      Environments\".  IEEE Transactions on Pattern Analysis and Machine      Intelligence, Vol. PAMI-2, No. 1, 67-71.    - Gates, G.W. (1972) \"The Reduced Nearest Neighbor Rule\".  IEEE Transactions      on Information Theory, May 1972, 431-433.    - See also: 1988 MLC Proceedings, 54-64.  Cheeseman et al\"s AUTOCLASS II      conceptual clustering system finds 3 classes in the data.    - Many, many more ... '"
   ]
  },
  {
   "cell_type": "code",
   "execution_count": null,
   "metadata": {},
   "outputs": [],
   "source": [
    "# Same type of plot as above, except using some real, non-random data.\n",
    "#\n",
    "# Iris Dataset with sklearn\n",
    "# http://scikit-learn.org/stable/modules/generated/sklearn.datasets.load_iris.html#sklearn.datasets.load_iris\n",
    "from sklearn.datasets import load_iris\n",
    "iris = load_iris()\n",
    "features = iris.data.T\n",
    "\n",
    "plt.scatter(features[0], features[1], alpha=0.2,\n",
    "            s=100*features[3], c=iris.target, cmap='viridis')\n",
    "plt.xlabel(iris.feature_names[0])\n",
    "plt.ylabel(iris.feature_names[1]);\n",
    "plt.colorbar()"
   ]
  },
  {
   "cell_type": "code",
   "execution_count": null,
   "metadata": {},
   "outputs": [],
   "source": [
    "# So what is iris (the data type)\n",
    "type(iris), iris.keys()"
   ]
  },
  {
   "cell_type": "markdown",
   "metadata": {},
   "source": [
    "## Histograms"
   ]
  },
  {
   "cell_type": "code",
   "execution_count": null,
   "metadata": {},
   "outputs": [],
   "source": [
    "# histograms\n",
    "data = np.random.randn(1000)\n",
    "plt.hist(data);"
   ]
  },
  {
   "cell_type": "code",
   "execution_count": null,
   "metadata": {},
   "outputs": [],
   "source": [
    "x1 = np.random.normal(0, 0.8, 1000)\n",
    "x2 = np.random.normal(-2, 1, 1000)\n",
    "x3 = np.random.normal(3, 2, 1000)\n",
    "\n",
    "kwargs = dict(histtype='stepfilled', alpha=0.3, density=True, bins=40)\n",
    "\n",
    "plt.hist(x1, **kwargs)\n",
    "plt.hist(x2, **kwargs)\n",
    "fig=plt.hist(x3, **kwargs)\n",
    "# What are these **kwargs things?\n",
    "# Why the \"fig=\" on the last function call?"
   ]
  },
  {
   "cell_type": "code",
   "execution_count": null,
   "metadata": {},
   "outputs": [],
   "source": [
    "plt.hist?"
   ]
  },
  {
   "cell_type": "code",
   "execution_count": null,
   "metadata": {},
   "outputs": [],
   "source": [
    "# How about some subplots ...\n",
    "# Note the (rows, cols, num) args for the subplot() call.\n",
    "for i in range(1, 7):\n",
    "    plt.subplot(2, 3, i)\n",
    "    plt.text(0.5, 0.5, str((2, 3, i)),\n",
    "             fontsize=18, ha='center')"
   ]
  },
  {
   "cell_type": "code",
   "execution_count": null,
   "metadata": {},
   "outputs": [],
   "source": [
    "# Subplots in action\n",
    "# erv.csv data - a 100x15 matrix of floats - a text file\n",
    "# 15 cols \n",
    "erv = np.genfromtxt('..\\data\\erv.csv', delimiter=',')\n",
    "# Create 15 subplots in a 3x5 gridor witha color for each\n",
    "c = ['orange', 'green', 'red', 'beige', 'brown'\n",
    "    ,'dimgray', 'firebrick', 'darkkhaki', 'indigo', 'darksalmon'\n",
    "    ,'forestgreen', 'fuchsia', 'darkcyan', 'darkviolet','darkgoldenrod'\n",
    "    ]\n",
    "plt.figure(figsize=(20, 8))\n",
    "for j in range(15):\n",
    "    plt.subplot(3,5,j+1)\n",
    "    plt.hist(erv[:,j], color=c[j])\n",
    "plt.show()\n",
    "# Make sure that you understand how the indexer (j) is\n",
    "# being used here."
   ]
  },
  {
   "cell_type": "code",
   "execution_count": null,
   "metadata": {},
   "outputs": [],
   "source": [
    "# np.genfromtxt()?????\n",
    "np.genfromtxt?"
   ]
  },
  {
   "cell_type": "code",
   "execution_count": null,
   "metadata": {},
   "outputs": [],
   "source": [
    "# Annotations, etc.\n",
    "fig, ax = plt.subplots(facecolor='lightgray')\n",
    "ax.axis([0, 10, 0, 10])\n",
    "\n",
    "# transform=ax.transData is the default, but we'll specify it anyway\n",
    "ax.text(1, 5, \". Data: (1, 5)\", transform=ax.transData)\n",
    "ax.text(0.5, 0.1, \". Axes: (0.5, 0.1)\", transform=ax.transAxes)\n",
    "ax.text(0.2, 0.2, \". Figure: (0.2, 0.2)\", transform=fig.transFigure);"
   ]
  },
  {
   "cell_type": "code",
   "execution_count": null,
   "metadata": {},
   "outputs": [],
   "source": [
    "# More annotations\n",
    "fig, ax = plt.subplots()\n",
    "\n",
    "x = np.linspace(0, 20, 1000)\n",
    "ax.plot(x, np.cos(x))\n",
    "ax.axis('equal')\n",
    "\n",
    "ax.annotate('local maximum', xy=(6.28, 1), xytext=(10, 4),\n",
    "            arrowprops=dict(facecolor='black', shrink=0.05))\n",
    "\n",
    "ax.annotate('local minimum', xy=(5 * np.pi, -1), xytext=(2, -6),\n",
    "            arrowprops=dict(arrowstyle=\"->\",\n",
    "                            connectionstyle=\"angle3,angleA=0,angleB=-90\"));"
   ]
  },
  {
   "cell_type": "markdown",
   "metadata": {},
   "source": [
    "## Visualization with Seaborn\n",
    "Ntoes from 04.14 of VanderPlas"
   ]
  },
  {
   "cell_type": "code",
   "execution_count": null,
   "metadata": {},
   "outputs": [],
   "source": [
    "# Facets - Prep the data first\n",
    "tips = sns.load_dataset('tips')\n",
    "tips['tip_pct'] = 100 * tips['tip'] / tips['total_bill']\n",
    "tips.head()"
   ]
  },
  {
   "cell_type": "code",
   "execution_count": null,
   "metadata": {},
   "outputs": [],
   "source": [
    "# Create the plot\n",
    "grid = sns.FacetGrid(tips, row=\"sex\", col=\"time\", margin_titles=True)\n",
    "grid.map(plt.hist, \"tip_pct\", bins=np.linspace(0, 40, 15));"
   ]
  },
  {
   "cell_type": "code",
   "execution_count": null,
   "metadata": {},
   "outputs": [],
   "source": [
    "# make sure the imports have been done before executing\n",
    "sns.set()"
   ]
  },
  {
   "cell_type": "code",
   "execution_count": null,
   "metadata": {},
   "outputs": [],
   "source": [
    "# Use the Seaborn settings to plt a random walk (6 reps.)\n",
    "rng = np.random.RandomState(0)\n",
    "x = np.linspace(0, 10, 500)\n",
    "y = np.cumsum(rng.randn(500, 6), 0)\n",
    "plt.figure(figsize=(10,7))\n",
    "plt.plot(x, y)\n",
    "plt.legend('ABCDEF', ncol=2, loc='upper left');\n",
    "# Note that we are making a single 'plot' call here, but are\n",
    "# passing a 1-D array (x) and a 2-D array (y) "
   ]
  },
  {
   "cell_type": "code",
   "execution_count": null,
   "metadata": {},
   "outputs": [],
   "source": [
    "sns.set?"
   ]
  },
  {
   "cell_type": "code",
   "execution_count": null,
   "metadata": {},
   "outputs": [],
   "source": [
    "np.random.multivariate_normal?"
   ]
  },
  {
   "cell_type": "code",
   "execution_count": null,
   "metadata": {},
   "outputs": [],
   "source": [
    "data = np.random.multivariate_normal([0, 0], [[5, 2], [2, 2]], size=4000)\n",
    "data = pd.DataFrame(data, columns=['x', 'y'])\n",
    "\n",
    "for col in 'xy':\n",
    "    plt.hist(data[col], density=True, alpha=0.5)"
   ]
  },
  {
   "cell_type": "code",
   "execution_count": null,
   "metadata": {},
   "outputs": [],
   "source": [
    "sns.distplot(data['x'])\n",
    "sns.distplot(data['y']);"
   ]
  },
  {
   "cell_type": "code",
   "execution_count": null,
   "metadata": {},
   "outputs": [],
   "source": [
    "with sns.axes_style('white'):\n",
    "    sns.jointplot(\"x\", \"y\", data, kind='kde');"
   ]
  },
  {
   "cell_type": "code",
   "execution_count": null,
   "metadata": {},
   "outputs": [],
   "source": []
  }
 ],
 "metadata": {
  "kernelspec": {
   "display_name": "Python 3",
   "language": "python",
   "name": "python3"
  },
  "language_info": {
   "codemirror_mode": {
    "name": "ipython",
    "version": 3
   },
   "file_extension": ".py",
   "mimetype": "text/x-python",
   "name": "python",
   "nbconvert_exporter": "python",
   "pygments_lexer": "ipython3",
   "version": "3.8.3"
  }
 },
 "nbformat": 4,
 "nbformat_minor": 2
}
